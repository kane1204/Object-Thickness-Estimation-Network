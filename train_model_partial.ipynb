{
 "cells": [
  {
   "cell_type": "code",
   "execution_count": 1,
   "metadata": {},
   "outputs": [],
   "source": [
    "# This file trains on with a subset missing and we will evaluate the performance of the model on the missing data"
   ]
  },
  {
   "cell_type": "code",
   "execution_count": 2,
   "metadata": {},
   "outputs": [],
   "source": [
    "from src.thickness_dataset import ThicknessDataset, ToTensor\n",
    "from src.models import U_Net\n",
    "from src.resnet import ResNet\n",
    "from src.trainer import Trainer\n",
    "\n",
    "from tqdm import tqdm\n",
    "import numpy as np\n",
    "import matplotlib.pyplot as plt\n",
    "%matplotlib inline\n",
    "\n",
    "import torch\n",
    "import torch.nn as nn\n",
    "from torch.utils.data import DataLoader\n",
    "\n",
    "import albumentations as A\n",
    "from albumentations.pytorch import ToTensorV2\n",
    "PATH = \"data\\gen_data_6000_v2\"\n",
    "\n",
    "augs = A.Compose([A.Normalize(mean = (0, 0, 0),\n",
    "                              std  = (1, 1, 1)),\n",
    "                 ToTensorV2()])\n",
    "thickness_dataset = ThicknessDataset(PATH, transform=augs)\n",
    "\n",
    "# https://kozodoi.me/python/deep%20learning/pytorch/tutorial/2021/03/08/image-mean-std.html Could be worth attempting to normalise the data\n",
    "# https://stackoverflow.com/questions/41428868/image-preprocessing-in-deep-learning"
   ]
  },
  {
   "cell_type": "code",
   "execution_count": 3,
   "metadata": {},
   "outputs": [
    {
     "name": "stdout",
     "output_type": "stream",
     "text": [
      "cam_pos:  [2.16795851 1.53159505 1.10764957]\n",
      "catagory:  file,file cabinet,filing cabinet\n",
      "model_id:  97149625367ac1444c3aee8e9d3a6ffa\n",
      "sample_no:  frame_0\n",
      "torch.Size([3, 128, 128])\n"
     ]
    },
    {
     "data": {
      "image/png": "[encoded data removed]",
      "text/plain": [
       "<Figure size 800x600 with 1 Axes>"
      ]
     },
     "metadata": {},
     "output_type": "display_data"
    }
   ],
   "source": [
    "idx = 3000\n",
    "sample = thickness_dataset[idx]\n",
    "\n",
    "print(\"cam_pos: \", sample['cam_pos'])\n",
    "print(\"catagory: \", sample['catagory'])\n",
    "print(\"model_id: \", sample['model_id'])\n",
    "print(\"sample_no: \", sample['sample_no'])\n",
    "\n",
    "img = sample['img']\n",
    "vis = sample['depth_map'].reshape(128,128)\n",
    "vis = vis[np.nonzero(vis)]\n",
    "\n",
    "print(img.shape)\n",
    "img = img.numpy().transpose(1, 2, 0)\n",
    "\n",
    "# Displays ehhe\n",
    "fig = plt.figure(figsize=(8,6))\n",
    "ax = fig.add_subplot()\n",
    "ax.imshow(img)\n",
    "\n",
    "plt.title(f\"{sample['catagory']}, {sample['model_id']}, {sample['sample_no']}\")\n",
    "plt.show()"
   ]
  },
  {
   "cell_type": "code",
   "execution_count": 4,
   "metadata": {},
   "outputs": [
    {
     "name": "stderr",
     "output_type": "stream",
     "text": [
      "100%|██████████| 52/52 [00:28<00:00,  1.86it/s]\n"
     ]
    }
   ],
   "source": [
    "# Calculate mean and std\n",
    "image_loader = DataLoader(thickness_dataset, \n",
    "                          batch_size  = 128, \n",
    "                          shuffle     = False, \n",
    "                          num_workers = 4,\n",
    "                          pin_memory  = True)\n",
    "\n",
    "# placeholders\n",
    "psum    = torch.tensor([0.0, 0.0, 0.0])\n",
    "psum_sq = torch.tensor([0.0, 0.0, 0.0])\n",
    "\n",
    "# loop through images\n",
    "for inputs in tqdm(image_loader):\n",
    "    psum    += inputs['img'].sum(axis        = [0, 2, 3])\n",
    "    psum_sq += (inputs['img'] ** 2).sum(axis = [0, 2, 3])\n",
    "\n",
    "# pixel count\n",
    "count = len(thickness_dataset) * 128 * 128\n",
    "\n",
    "# mean and std\n",
    "total_mean = psum / count\n",
    "total_var  = (psum_sq / count) - (total_mean ** 2)\n",
    "total_std  = torch.sqrt(total_var)"
   ]
  },
  {
   "cell_type": "code",
   "execution_count": 5,
   "metadata": {},
   "outputs": [
    {
     "name": "stdout",
     "output_type": "stream",
     "text": [
      "Number of samples in dataset without large object 5514\n",
      "Number of samples in dataset with only large objects 1038\n"
     ]
    }
   ],
   "source": [
    "augs = A.Compose([A.Normalize(mean = total_mean,\n",
    "                              std  = total_std),\n",
    "                 ToTensorV2()])\n",
    "thickness_dataset_without_big = ThicknessDataset(PATH, mode=1, transform=augs)\n",
    "thickness_dataset_only_big = ThicknessDataset(PATH, mode=2, transform=augs)\n",
    "print(\"Number of samples in dataset without large object\", len(thickness_dataset_without_big))\n",
    "print(\"Number of samples in dataset with only large objects\", len(thickness_dataset_only_big))"
   ]
  },
  {
   "cell_type": "code",
   "execution_count": 6,
   "metadata": {},
   "outputs": [],
   "source": [
    "train_split = 0.9\n",
    "valid_split = 0.1\n",
    "train_size = int(train_split * len(thickness_dataset_without_big))+1\n",
    "valid_size = int(valid_split * len(thickness_dataset_without_big))\n",
    "\n",
    "\n",
    "train_dataset, valid_dataset = torch.utils.data.random_split(thickness_dataset_without_big, [train_size, valid_size], generator=torch.Generator().manual_seed(42))\n",
    "\n",
    "test_dataset = thickness_dataset_only_big\n",
    "\n",
    "batch_size = 16 # 16\n",
    "\n",
    "train_dataloader = DataLoader(train_dataset, batch_size=batch_size)\n",
    "valid_dataloader = DataLoader(valid_dataset, batch_size=batch_size)\n",
    "test_dataloader = DataLoader(test_dataset, batch_size=batch_size)"
   ]
  },
  {
   "cell_type": "code",
   "execution_count": 7,
   "metadata": {},
   "outputs": [],
   "source": [
    "class berHuLoss(nn.Module):\n",
    "    def __init__(self):\n",
    "        super(berHuLoss, self).__init__()\n",
    "\n",
    "    def forward(self, pred, target, delta=1.0):\n",
    "        assert pred.dim() == target.dim(), \"inconsistent dimensions\"\n",
    "\n",
    "        error = target - pred\n",
    "        abs_error = torch.abs(error)\n",
    "        mask = abs_error < delta\n",
    "        squared_loss = 0.5 * torch.square(error)\n",
    "        linear_loss = delta * (abs_error - 0.5 * delta)\n",
    "        loss = torch.where(mask, squared_loss, linear_loss)\n",
    "        return torch.mean(loss)"
   ]
  },
  {
   "cell_type": "code",
   "execution_count": 8,
   "metadata": {},
   "outputs": [
    {
     "name": "stdout",
     "output_type": "stream",
     "text": [
      "Using cuda device\n"
     ]
    },
    {
     "data": {
      "application/vnd.jupyter.widget-view+json": {
       "model_id": "e744a5ff6b8b4df38f4856e149d6451b",
       "version_major": 2,
       "version_minor": 0
      },
      "text/plain": [
       "Epochs:   0%|          | 0/200 [00:00<?, ?it/s]"
      ]
     },
     "metadata": {},
     "output_type": "display_data"
    },
    {
     "name": "stdout",
     "output_type": "stream",
     "text": [
      "Finished Epoch: 0 | Train Masked Loss: 0.02008 | Train Loss: 0.00431 | Val  Masked Loss: 0.01046 | Val Loss: 0.00150\n",
      "Finished Epoch: 1 | Train Masked Loss: 0.01105 | Train Loss: 0.00162 | Val  Masked Loss: 0.00975 | Val Loss: 0.00143\n",
      "Finished Epoch: 2 | Train Masked Loss: 0.01037 | Train Loss: 0.00147 | Val  Masked Loss: 0.00914 | Val Loss: 0.00121\n",
      "Finished Epoch: 3 | Train Masked Loss: 0.01026 | Train Loss: 0.00147 | Val  Masked Loss: 0.00967 | Val Loss: 0.00143\n",
      "Finished Epoch: 4 | Train Masked Loss: 0.01010 | Train Loss: 0.00142 | Val  Masked Loss: 0.01096 | Val Loss: 0.00135\n",
      "Finished Epoch: 5 | Train Masked Loss: 0.00963 | Train Loss: 0.00137 | Val  Masked Loss: 0.00979 | Val Loss: 0.00128\n",
      "Finished Epoch: 6 | Train Masked Loss: 0.01008 | Train Loss: 0.00142 | Val  Masked Loss: 0.00897 | Val Loss: 0.00117\n",
      "Finished Epoch: 7 | Train Masked Loss: 0.00992 | Train Loss: 0.00139 | Val  Masked Loss: 0.01021 | Val Loss: 0.00160\n",
      "Finished Epoch: 8 | Train Masked Loss: 0.01049 | Train Loss: 0.00148 | Val  Masked Loss: 0.01028 | Val Loss: 0.00134\n",
      "Finished Epoch: 9 | Train Masked Loss: 0.01004 | Train Loss: 0.00144 | Val  Masked Loss: 0.10008 | Val Loss: 0.26639\n",
      "Finished Epoch: 10 | Train Masked Loss: 0.01197 | Train Loss: 0.00166 | Val  Masked Loss: 0.01802 | Val Loss: 0.00213\n",
      "Finished Epoch: 11 | Train Masked Loss: 0.01199 | Train Loss: 0.00162 | Val  Masked Loss: 0.01169 | Val Loss: 0.00150\n",
      "Finished Epoch: 12 | Train Masked Loss: 0.01182 | Train Loss: 0.00157 | Val  Masked Loss: 0.01379 | Val Loss: 0.00198\n",
      "Finished Epoch: 13 | Train Masked Loss: 0.01176 | Train Loss: 0.00158 | Val  Masked Loss: 0.01153 | Val Loss: 0.00162\n",
      "Finished Epoch: 14 | Train Masked Loss: 0.01197 | Train Loss: 0.00161 | Val  Masked Loss: 0.02172 | Val Loss: 0.00297\n",
      "Finished Epoch: 15 | Train Masked Loss: 0.01164 | Train Loss: 0.00158 | Val  Masked Loss: 0.03707 | Val Loss: 0.00411\n",
      "Finished Epoch: 16 | Train Masked Loss: 0.01157 | Train Loss: 0.00155 | Val  Masked Loss: 0.01358 | Val Loss: 0.00178\n",
      "Finished Epoch: 17 | Train Masked Loss: 0.01166 | Train Loss: 0.00156 | Val  Masked Loss: 0.01095 | Val Loss: 0.00155\n",
      "Finished Epoch: 18 | Train Masked Loss: 0.01186 | Train Loss: 0.00159 | Val  Masked Loss: 0.01939 | Val Loss: 0.00225\n",
      "Finished Epoch: 19 | Train Masked Loss: 0.01170 | Train Loss: 0.00157 | Val  Masked Loss: 0.01003 | Val Loss: 0.00135\n",
      "Finished Epoch: 20 | Train Masked Loss: 0.01161 | Train Loss: 0.00155 | Val  Masked Loss: 0.01036 | Val Loss: 0.00140\n",
      "Finished Epoch: 21 | Train Masked Loss: 0.01143 | Train Loss: 0.00153 | Val  Masked Loss: 0.00886 | Val Loss: 0.00125\n",
      "Finished Epoch: 22 | Train Masked Loss: 0.01137 | Train Loss: 0.00153 | Val  Masked Loss: 0.04182 | Val Loss: 0.00525\n",
      "Finished Epoch: 23 | Train Masked Loss: 0.01121 | Train Loss: 0.00151 | Val  Masked Loss: 0.00877 | Val Loss: 0.00114\n",
      "Finished Epoch: 24 | Train Masked Loss: 0.01093 | Train Loss: 0.00148 | Val  Masked Loss: 0.01185 | Val Loss: 0.00139\n",
      "Finished Epoch: 25 | Train Masked Loss: 0.01066 | Train Loss: 0.00144 | Val  Masked Loss: 0.00868 | Val Loss: 0.00111\n",
      "Finished Epoch: 26 | Train Masked Loss: 0.01046 | Train Loss: 0.00141 | Val  Masked Loss: 0.00803 | Val Loss: 0.00108\n",
      "Finished Epoch: 27 | Train Masked Loss: 0.01017 | Train Loss: 0.00138 | Val  Masked Loss: 0.00859 | Val Loss: 0.00119\n",
      "Finished Epoch: 28 | Train Masked Loss: 0.01080 | Train Loss: 0.00145 | Val  Masked Loss: 0.00871 | Val Loss: 0.00108\n",
      "Finished Epoch: 29 | Train Masked Loss: 0.00988 | Train Loss: 0.00134 | Val  Masked Loss: 0.00830 | Val Loss: 0.00104\n",
      "Finished Epoch: 30 | Train Masked Loss: 0.00975 | Train Loss: 0.00132 | Val  Masked Loss: 0.00836 | Val Loss: 0.00105\n",
      "Finished Epoch: 31 | Train Masked Loss: 0.00967 | Train Loss: 0.00131 | Val  Masked Loss: 0.00800 | Val Loss: 0.00101\n",
      "Finished Epoch: 32 | Train Masked Loss: 0.00942 | Train Loss: 0.00128 | Val  Masked Loss: 0.00780 | Val Loss: 0.00098\n",
      "Finished Epoch: 33 | Train Masked Loss: 0.00948 | Train Loss: 0.00128 | Val  Masked Loss: 0.01170 | Val Loss: 0.00136\n",
      "Finished Epoch: 34 | Train Masked Loss: 0.00934 | Train Loss: 0.00127 | Val  Masked Loss: 0.00850 | Val Loss: 0.00105\n",
      "Finished Epoch: 35 | Train Masked Loss: 0.00927 | Train Loss: 0.00126 | Val  Masked Loss: 0.00840 | Val Loss: 0.00103\n",
      "Finished Epoch: 36 | Train Masked Loss: 0.00917 | Train Loss: 0.00125 | Val  Masked Loss: 0.00896 | Val Loss: 0.00123\n",
      "Finished Epoch: 37 | Train Masked Loss: 0.00999 | Train Loss: 0.00135 | Val  Masked Loss: 0.00751 | Val Loss: 0.00096\n",
      "Finished Epoch: 38 | Train Masked Loss: 0.00913 | Train Loss: 0.00124 | Val  Masked Loss: 0.00833 | Val Loss: 0.00102\n",
      "Finished Epoch: 39 | Train Masked Loss: 0.00893 | Train Loss: 0.00122 | Val  Masked Loss: 0.00814 | Val Loss: 0.00100\n",
      "Finished Epoch: 40 | Train Masked Loss: 0.00893 | Train Loss: 0.00121 | Val  Masked Loss: 0.00820 | Val Loss: 0.00101\n",
      "Finished Epoch: 41 | Train Masked Loss: 0.00874 | Train Loss: 0.00120 | Val  Masked Loss: 0.00724 | Val Loss: 0.00093\n",
      "Finished Epoch: 42 | Train Masked Loss: 0.00866 | Train Loss: 0.00119 | Val  Masked Loss: 0.00693 | Val Loss: 0.00093\n",
      "Finished Epoch: 43 | Train Masked Loss: 0.00897 | Train Loss: 0.00122 | Val  Masked Loss: 0.00835 | Val Loss: 0.00102\n",
      "Finished Epoch: 44 | Train Masked Loss: 0.00863 | Train Loss: 0.00118 | Val  Masked Loss: 0.01182 | Val Loss: 0.00137\n",
      "Finished Epoch: 45 | Train Masked Loss: 0.00856 | Train Loss: 0.00117 | Val  Masked Loss: 0.00809 | Val Loss: 0.00099\n",
      "Finished Epoch: 46 | Train Masked Loss: 0.00844 | Train Loss: 0.00116 | Val  Masked Loss: 0.01015 | Val Loss: 0.00119\n",
      "Finished Epoch: 47 | Train Masked Loss: 0.00829 | Train Loss: 0.00114 | Val  Masked Loss: 0.00820 | Val Loss: 0.00100\n",
      "Finished Epoch: 48 | Train Masked Loss: 0.00838 | Train Loss: 0.00115 | Val  Masked Loss: 0.00751 | Val Loss: 0.00094\n",
      "Finished Epoch: 49 | Train Masked Loss: 0.00824 | Train Loss: 0.00113 | Val  Masked Loss: 0.00674 | Val Loss: 0.00088\n",
      "Finished Epoch: 50 | Train Masked Loss: 0.00808 | Train Loss: 0.00112 | Val  Masked Loss: 0.01279 | Val Loss: 0.00210\n",
      "Finished Epoch: 51 | Train Masked Loss: 0.00994 | Train Loss: 0.00134 | Val  Masked Loss: 0.00938 | Val Loss: 0.00111\n",
      "Finished Epoch: 52 | Train Masked Loss: 0.00849 | Train Loss: 0.00116 | Val  Masked Loss: 0.00717 | Val Loss: 0.00092\n",
      "Finished Epoch: 53 | Train Masked Loss: 0.00825 | Train Loss: 0.00113 | Val  Masked Loss: 0.00755 | Val Loss: 0.00099\n",
      "Finished Epoch: 54 | Train Masked Loss: 0.00815 | Train Loss: 0.00112 | Val  Masked Loss: 0.00714 | Val Loss: 0.00091\n",
      "Finished Epoch: 55 | Train Masked Loss: 0.00808 | Train Loss: 0.00111 | Val  Masked Loss: 0.00748 | Val Loss: 0.00093\n",
      "Finished Epoch: 56 | Train Masked Loss: 0.00793 | Train Loss: 0.00109 | Val  Masked Loss: 0.00751 | Val Loss: 0.00095\n",
      "Finished Epoch: 57 | Train Masked Loss: 0.00792 | Train Loss: 0.00109 | Val  Masked Loss: 0.00773 | Val Loss: 0.00095\n",
      "Finished Epoch: 58 | Train Masked Loss: 0.00784 | Train Loss: 0.00108 | Val  Masked Loss: 0.00713 | Val Loss: 0.00089\n",
      "Finished Epoch: 59 | Train Masked Loss: 0.00775 | Train Loss: 0.00107 | Val  Masked Loss: 0.00743 | Val Loss: 0.00093\n",
      "Finished Epoch: 60 | Train Masked Loss: 0.00765 | Train Loss: 0.00106 | Val  Masked Loss: 0.00703 | Val Loss: 0.00092\n",
      "Finished Epoch: 61 | Train Masked Loss: 0.00759 | Train Loss: 0.00105 | Val  Masked Loss: 0.00677 | Val Loss: 0.00087\n",
      "Finished Epoch: 62 | Train Masked Loss: 0.00760 | Train Loss: 0.00105 | Val  Masked Loss: 0.00762 | Val Loss: 0.00094\n",
      "Finished Epoch: 63 | Train Masked Loss: 0.00755 | Train Loss: 0.00104 | Val  Masked Loss: 0.00781 | Val Loss: 0.00100\n",
      "Finished Epoch: 64 | Train Masked Loss: 0.00740 | Train Loss: 0.00103 | Val  Masked Loss: 0.00918 | Val Loss: 0.00110\n",
      "Finished Epoch: 65 | Train Masked Loss: 0.00744 | Train Loss: 0.00103 | Val  Masked Loss: 0.00934 | Val Loss: 0.00110\n",
      "Finished Epoch: 66 | Train Masked Loss: 0.00721 | Train Loss: 0.00101 | Val  Masked Loss: 0.00773 | Val Loss: 0.00097\n",
      "Finished Epoch: 67 | Train Masked Loss: 0.00740 | Train Loss: 0.00103 | Val  Masked Loss: 0.00939 | Val Loss: 0.00112\n",
      "Finished Epoch: 68 | Train Masked Loss: 0.00730 | Train Loss: 0.00102 | Val  Masked Loss: 0.00824 | Val Loss: 0.00100\n",
      "Finished Epoch: 69 | Train Masked Loss: 0.00722 | Train Loss: 0.00100 | Val  Masked Loss: 0.00828 | Val Loss: 0.00107\n",
      "Finished Epoch: 70 | Train Masked Loss: 0.00761 | Train Loss: 0.00105 | Val  Masked Loss: 0.00958 | Val Loss: 0.00117\n",
      "Finished Epoch: 71 | Train Masked Loss: 0.00721 | Train Loss: 0.00100 | Val  Masked Loss: 0.00854 | Val Loss: 0.00102\n",
      "Finished Epoch: 72 | Train Masked Loss: 0.00700 | Train Loss: 0.00098 | Val  Masked Loss: 0.00807 | Val Loss: 0.00099\n",
      "Finished Epoch: 73 | Train Masked Loss: 0.00702 | Train Loss: 0.00098 | Val  Masked Loss: 0.00837 | Val Loss: 0.00102\n",
      "Finished Epoch: 74 | Train Masked Loss: 0.00702 | Train Loss: 0.00098 | Val  Masked Loss: 0.00910 | Val Loss: 0.00108\n",
      "Finished Epoch: 75 | Train Masked Loss: 0.00699 | Train Loss: 0.00097 | Val  Masked Loss: 0.00749 | Val Loss: 0.00094\n",
      "Finished Epoch: 76 | Train Masked Loss: 0.00708 | Train Loss: 0.00098 | Val  Masked Loss: 0.00853 | Val Loss: 0.00103\n",
      "Finished Epoch: 77 | Train Masked Loss: 0.00705 | Train Loss: 0.00098 | Val  Masked Loss: 0.00897 | Val Loss: 0.00109\n",
      "Finished Epoch: 78 | Train Masked Loss: 0.00707 | Train Loss: 0.00098 | Val  Masked Loss: 0.00806 | Val Loss: 0.00099\n",
      "Finished Epoch: 79 | Train Masked Loss: 0.00698 | Train Loss: 0.00097 | Val  Masked Loss: 0.00793 | Val Loss: 0.00098\n",
      "Finished Epoch: 80 | Train Masked Loss: 0.00706 | Train Loss: 0.00098 | Val  Masked Loss: 0.00949 | Val Loss: 0.00112\n",
      "Finished Epoch: 81 | Train Masked Loss: 0.00707 | Train Loss: 0.00099 | Val  Masked Loss: 0.00896 | Val Loss: 0.00107\n",
      "Finished Epoch: 82 | Train Masked Loss: 0.00698 | Train Loss: 0.00097 | Val  Masked Loss: 0.00824 | Val Loss: 0.00100\n",
      "Finished Epoch: 83 | Train Masked Loss: 0.00691 | Train Loss: 0.00096 | Val  Masked Loss: 0.00792 | Val Loss: 0.00098\n",
      "Finished Epoch: 84 | Train Masked Loss: 0.00695 | Train Loss: 0.00097 | Val  Masked Loss: 0.00831 | Val Loss: 0.00101\n",
      "Finished Epoch: 85 | Train Masked Loss: 0.00694 | Train Loss: 0.00097 | Val  Masked Loss: 0.00967 | Val Loss: 0.00115\n",
      "Finished Epoch: 86 | Train Masked Loss: 0.00695 | Train Loss: 0.00097 | Val  Masked Loss: 0.01080 | Val Loss: 0.00126\n",
      "Finished Epoch: 87 | Train Masked Loss: 0.00695 | Train Loss: 0.00097 | Val  Masked Loss: 0.00930 | Val Loss: 0.00110\n",
      "Finished Epoch: 88 | Train Masked Loss: 0.00690 | Train Loss: 0.00096 | Val  Masked Loss: 0.01006 | Val Loss: 0.00118\n",
      "Finished Epoch: 89 | Train Masked Loss: 0.00690 | Train Loss: 0.00097 | Val  Masked Loss: 0.00923 | Val Loss: 0.00110\n",
      "Finished Epoch: 90 | Train Masked Loss: 0.00689 | Train Loss: 0.00096 | Val  Masked Loss: 0.01330 | Val Loss: 0.00150\n",
      "Finished Epoch: 91 | Train Masked Loss: 0.00685 | Train Loss: 0.00096 | Val  Masked Loss: 0.01099 | Val Loss: 0.00126\n",
      "Finished Epoch: 92 | Train Masked Loss: 0.00704 | Train Loss: 0.00098 | Val  Masked Loss: 0.00934 | Val Loss: 0.00114\n",
      "Finished Epoch: 93 | Train Masked Loss: 0.00693 | Train Loss: 0.00097 | Val  Masked Loss: 0.00719 | Val Loss: 0.00093\n",
      "Finished Epoch: 94 | Train Masked Loss: 0.00690 | Train Loss: 0.00096 | Val  Masked Loss: 0.00985 | Val Loss: 0.00116\n",
      "Finished Epoch: 95 | Train Masked Loss: 0.00688 | Train Loss: 0.00096 | Val  Masked Loss: 0.00797 | Val Loss: 0.00098\n",
      "Finished Epoch: 96 | Train Masked Loss: 0.00683 | Train Loss: 0.00095 | Val  Masked Loss: 0.00784 | Val Loss: 0.00100\n",
      "Finished Epoch: 97 | Train Masked Loss: 0.00723 | Train Loss: 0.00100 | Val  Masked Loss: 0.01104 | Val Loss: 0.00128\n",
      "Finished Epoch: 98 | Train Masked Loss: 0.00683 | Train Loss: 0.00095 | Val  Masked Loss: 0.01003 | Val Loss: 0.00118\n",
      "Finished Epoch: 99 | Train Masked Loss: 0.00682 | Train Loss: 0.00095 | Val  Masked Loss: 0.00831 | Val Loss: 0.00104\n",
      "Finished Epoch: 100 | Train Masked Loss: 0.00682 | Train Loss: 0.00095 | Val  Masked Loss: 0.01072 | Val Loss: 0.00125\n",
      "Finished Epoch: 101 | Train Masked Loss: 0.00678 | Train Loss: 0.00094 | Val  Masked Loss: 0.01033 | Val Loss: 0.00123\n",
      "Finished Epoch: 102 | Train Masked Loss: 0.00701 | Train Loss: 0.00097 | Val  Masked Loss: 0.00877 | Val Loss: 0.00106\n",
      "Finished Epoch: 103 | Train Masked Loss: 0.00692 | Train Loss: 0.00096 | Val  Masked Loss: 0.00848 | Val Loss: 0.00104\n",
      "Finished Epoch: 104 | Train Masked Loss: 0.00676 | Train Loss: 0.00094 | Val  Masked Loss: 0.01101 | Val Loss: 0.00156\n",
      "Finished Epoch: 105 | Train Masked Loss: 0.00678 | Train Loss: 0.00095 | Val  Masked Loss: 0.00887 | Val Loss: 0.00107\n",
      "Finished Epoch: 106 | Train Masked Loss: 0.00681 | Train Loss: 0.00095 | Val  Masked Loss: 0.01087 | Val Loss: 0.00126\n",
      "Finished Epoch: 107 | Train Masked Loss: 0.00681 | Train Loss: 0.00095 | Val  Masked Loss: 0.00797 | Val Loss: 0.00117\n",
      "Finished Epoch: 108 | Train Masked Loss: 0.00683 | Train Loss: 0.00095 | Val  Masked Loss: 0.01018 | Val Loss: 0.00123\n",
      "Finished Epoch: 109 | Train Masked Loss: 0.00684 | Train Loss: 0.00096 | Val  Masked Loss: 0.00916 | Val Loss: 0.00152\n",
      "Finished Epoch: 110 | Train Masked Loss: 0.00671 | Train Loss: 0.00094 | Val  Masked Loss: 0.01148 | Val Loss: 0.00132\n",
      "Finished Epoch: 111 | Train Masked Loss: 0.00692 | Train Loss: 0.00096 | Val  Masked Loss: 0.01095 | Val Loss: 0.00131\n",
      "Finished Epoch: 112 | Train Masked Loss: 0.00676 | Train Loss: 0.00094 | Val  Masked Loss: 0.01178 | Val Loss: 0.00163\n",
      "Finished Epoch: 113 | Train Masked Loss: 0.00684 | Train Loss: 0.00095 | Val  Masked Loss: 0.00965 | Val Loss: 0.00114\n",
      "Finished Epoch: 114 | Train Masked Loss: 0.00678 | Train Loss: 0.00094 | Val  Masked Loss: 0.01025 | Val Loss: 0.00131\n",
      "Finished Epoch: 115 | Train Masked Loss: 0.00673 | Train Loss: 0.00094 | Val  Masked Loss: 0.01083 | Val Loss: 0.00126\n",
      "Finished Epoch: 116 | Train Masked Loss: 0.00679 | Train Loss: 0.00094 | Val  Masked Loss: 0.01392 | Val Loss: 0.00159\n",
      "Finished Epoch: 117 | Train Masked Loss: 0.00680 | Train Loss: 0.00095 | Val  Masked Loss: 0.00995 | Val Loss: 0.00118\n",
      "Finished Epoch: 118 | Train Masked Loss: 0.00690 | Train Loss: 0.00096 | Val  Masked Loss: 0.01158 | Val Loss: 0.00138\n",
      "Finished Epoch: 119 | Train Masked Loss: 0.00677 | Train Loss: 0.00094 | Val  Masked Loss: 0.01180 | Val Loss: 0.00135\n",
      "Finished Epoch: 120 | Train Masked Loss: 0.00668 | Train Loss: 0.00093 | Val  Masked Loss: 0.00943 | Val Loss: 0.00112\n",
      "Finished Epoch: 121 | Train Masked Loss: 0.00674 | Train Loss: 0.00094 | Val  Masked Loss: 0.01300 | Val Loss: 0.00148\n",
      "Finished Epoch: 122 | Train Masked Loss: 0.00695 | Train Loss: 0.00096 | Val  Masked Loss: 0.01051 | Val Loss: 0.00124\n",
      "Finished Epoch: 123 | Train Masked Loss: 0.00675 | Train Loss: 0.00094 | Val  Masked Loss: 0.01034 | Val Loss: 0.00158\n",
      "Finished Epoch: 124 | Train Masked Loss: 0.00680 | Train Loss: 0.00095 | Val  Masked Loss: 0.00939 | Val Loss: 0.00114\n",
      "Finished Epoch: 125 | Train Masked Loss: 0.00673 | Train Loss: 0.00094 | Val  Masked Loss: 0.01078 | Val Loss: 0.00126\n",
      "Finished Epoch: 126 | Train Masked Loss: 0.00668 | Train Loss: 0.00093 | Val  Masked Loss: 0.01053 | Val Loss: 0.00145\n",
      "Finished Epoch: 127 | Train Masked Loss: 0.00684 | Train Loss: 0.00095 | Val  Masked Loss: 0.01121 | Val Loss: 0.00130\n",
      "Finished Epoch: 128 | Train Masked Loss: 0.00673 | Train Loss: 0.00094 | Val  Masked Loss: 0.00815 | Val Loss: 0.00125\n",
      "Finished Epoch: 129 | Train Masked Loss: 0.00677 | Train Loss: 0.00094 | Val  Masked Loss: 0.01099 | Val Loss: 0.00128\n",
      "Finished Epoch: 130 | Train Masked Loss: 0.00672 | Train Loss: 0.00094 | Val  Masked Loss: 0.00994 | Val Loss: 0.00118\n",
      "Finished Epoch: 131 | Train Masked Loss: 0.00672 | Train Loss: 0.00093 | Val  Masked Loss: 0.01623 | Val Loss: 0.00182\n",
      "Finished Epoch: 132 | Train Masked Loss: 0.00672 | Train Loss: 0.00093 | Val  Masked Loss: 0.00906 | Val Loss: 0.00120\n",
      "Finished Epoch: 133 | Train Masked Loss: 0.00690 | Train Loss: 0.00096 | Val  Masked Loss: 0.01366 | Val Loss: 0.00155\n",
      "Finished Epoch: 134 | Train Masked Loss: 0.00667 | Train Loss: 0.00093 | Val  Masked Loss: 0.01288 | Val Loss: 0.00147\n",
      "Finished Epoch: 135 | Train Masked Loss: 0.00705 | Train Loss: 0.00098 | Val  Masked Loss: 0.01105 | Val Loss: 0.00129\n",
      "Finished Epoch: 136 | Train Masked Loss: 0.00685 | Train Loss: 0.00095 | Val  Masked Loss: 0.00968 | Val Loss: 0.00114\n",
      "Finished Epoch: 137 | Train Masked Loss: 0.00668 | Train Loss: 0.00093 | Val  Masked Loss: 0.01281 | Val Loss: 0.00147\n",
      "Finished Epoch: 138 | Train Masked Loss: 0.00670 | Train Loss: 0.00093 | Val  Masked Loss: 0.01009 | Val Loss: 0.00119\n",
      "Finished Epoch: 139 | Train Masked Loss: 0.00661 | Train Loss: 0.00092 | Val  Masked Loss: 0.01220 | Val Loss: 0.00141\n",
      "Finished Epoch: 140 | Train Masked Loss: 0.00664 | Train Loss: 0.00093 | Val  Masked Loss: 0.01105 | Val Loss: 0.00130\n",
      "Finished Epoch: 141 | Train Masked Loss: 0.00665 | Train Loss: 0.00093 | Val  Masked Loss: 0.01189 | Val Loss: 0.00137\n",
      "Finished Epoch: 142 | Train Masked Loss: 0.00694 | Train Loss: 0.00096 | Val  Masked Loss: 0.01229 | Val Loss: 0.00141\n",
      "Finished Epoch: 143 | Train Masked Loss: 0.00677 | Train Loss: 0.00094 | Val  Masked Loss: 0.00910 | Val Loss: 0.00119\n",
      "Finished Epoch: 144 | Train Masked Loss: 0.00671 | Train Loss: 0.00093 | Val  Masked Loss: 0.00942 | Val Loss: 0.00112\n",
      "Finished Epoch: 145 | Train Masked Loss: 0.00668 | Train Loss: 0.00093 | Val  Masked Loss: 0.01038 | Val Loss: 0.00122\n",
      "Finished Epoch: 146 | Train Masked Loss: 0.00664 | Train Loss: 0.00092 | Val  Masked Loss: 0.00929 | Val Loss: 0.00111\n",
      "Finished Epoch: 147 | Train Masked Loss: 0.00674 | Train Loss: 0.00093 | Val  Masked Loss: 0.01304 | Val Loss: 0.00149\n",
      "Finished Epoch: 148 | Train Masked Loss: 0.00723 | Train Loss: 0.00100 | Val  Masked Loss: 0.01106 | Val Loss: 0.00128\n",
      "Finished Epoch: 149 | Train Masked Loss: 0.00667 | Train Loss: 0.00093 | Val  Masked Loss: 0.01127 | Val Loss: 0.00130\n",
      "Finished Epoch: 150 | Train Masked Loss: 0.00662 | Train Loss: 0.00092 | Val  Masked Loss: 0.01112 | Val Loss: 0.00133\n",
      "Finished Epoch: 151 | Train Masked Loss: 0.00656 | Train Loss: 0.00091 | Val  Masked Loss: 0.01246 | Val Loss: 0.00156\n",
      "Finished Epoch: 152 | Train Masked Loss: 0.00665 | Train Loss: 0.00093 | Val  Masked Loss: 0.01331 | Val Loss: 0.00151\n",
      "Finished Epoch: 153 | Train Masked Loss: 0.00659 | Train Loss: 0.00092 | Val  Masked Loss: 0.01042 | Val Loss: 0.00176\n",
      "Finished Epoch: 154 | Train Masked Loss: 0.00657 | Train Loss: 0.00091 | Val  Masked Loss: 0.01273 | Val Loss: 0.00146\n",
      "Finished Epoch: 155 | Train Masked Loss: 0.00659 | Train Loss: 0.00092 | Val  Masked Loss: 0.00960 | Val Loss: 0.00113\n",
      "Finished Epoch: 156 | Train Masked Loss: 0.00667 | Train Loss: 0.00093 | Val  Masked Loss: 0.01021 | Val Loss: 0.00120\n",
      "Finished Epoch: 157 | Train Masked Loss: 0.00668 | Train Loss: 0.00093 | Val  Masked Loss: 0.01060 | Val Loss: 0.00123\n",
      "Finished Epoch: 158 | Train Masked Loss: 0.00663 | Train Loss: 0.00092 | Val  Masked Loss: 0.01406 | Val Loss: 0.00159\n",
      "Finished Epoch: 159 | Train Masked Loss: 0.00657 | Train Loss: 0.00091 | Val  Masked Loss: 0.00953 | Val Loss: 0.00113\n",
      "Finished Epoch: 160 | Train Masked Loss: 0.00673 | Train Loss: 0.00093 | Val  Masked Loss: 0.01622 | Val Loss: 0.00183\n",
      "Finished Epoch: 161 | Train Masked Loss: 0.00656 | Train Loss: 0.00091 | Val  Masked Loss: 0.01151 | Val Loss: 0.00133\n",
      "Finished Epoch: 162 | Train Masked Loss: 0.00682 | Train Loss: 0.00094 | Val  Masked Loss: 0.00949 | Val Loss: 0.00113\n",
      "Finished Epoch: 163 | Train Masked Loss: 0.00662 | Train Loss: 0.00092 | Val  Masked Loss: 0.01165 | Val Loss: 0.00135\n",
      "Finished Epoch: 164 | Train Masked Loss: 0.00660 | Train Loss: 0.00092 | Val  Masked Loss: 0.01281 | Val Loss: 0.00145\n",
      "Finished Epoch: 165 | Train Masked Loss: 0.00669 | Train Loss: 0.00093 | Val  Masked Loss: 0.01079 | Val Loss: 0.00136\n",
      "Finished Epoch: 166 | Train Masked Loss: 0.00668 | Train Loss: 0.00092 | Val  Masked Loss: 0.01211 | Val Loss: 0.00140\n",
      "Finished Epoch: 167 | Train Masked Loss: 0.00665 | Train Loss: 0.00092 | Val  Masked Loss: 0.01375 | Val Loss: 0.00157\n",
      "Finished Epoch: 168 | Train Masked Loss: 0.00647 | Train Loss: 0.00090 | Val  Masked Loss: 0.01229 | Val Loss: 0.00141\n",
      "Finished Epoch: 169 | Train Masked Loss: 0.00653 | Train Loss: 0.00091 | Val  Masked Loss: 0.01110 | Val Loss: 0.00128\n",
      "Finished Epoch: 170 | Train Masked Loss: 0.00655 | Train Loss: 0.00091 | Val  Masked Loss: 0.00917 | Val Loss: 0.00110\n",
      "Finished Epoch: 171 | Train Masked Loss: 0.00671 | Train Loss: 0.00093 | Val  Masked Loss: 0.01434 | Val Loss: 0.00162\n",
      "Finished Epoch: 172 | Train Masked Loss: 0.00653 | Train Loss: 0.00091 | Val  Masked Loss: 0.01138 | Val Loss: 0.00132\n",
      "Finished Epoch: 173 | Train Masked Loss: 0.00658 | Train Loss: 0.00091 | Val  Masked Loss: 0.01861 | Val Loss: 0.00206\n",
      "Finished Epoch: 174 | Train Masked Loss: 0.00662 | Train Loss: 0.00092 | Val  Masked Loss: 0.01546 | Val Loss: 0.00180\n",
      "Finished Epoch: 175 | Train Masked Loss: 0.00662 | Train Loss: 0.00092 | Val  Masked Loss: 0.01275 | Val Loss: 0.00145\n",
      "Finished Epoch: 176 | Train Masked Loss: 0.00641 | Train Loss: 0.00089 | Val  Masked Loss: 0.01276 | Val Loss: 0.00146\n",
      "Finished Epoch: 177 | Train Masked Loss: 0.00670 | Train Loss: 0.00093 | Val  Masked Loss: 0.01477 | Val Loss: 0.00168\n",
      "Finished Epoch: 178 | Train Masked Loss: 0.00658 | Train Loss: 0.00092 | Val  Masked Loss: 0.01384 | Val Loss: 0.00157\n",
      "Finished Epoch: 179 | Train Masked Loss: 0.00657 | Train Loss: 0.00091 | Val  Masked Loss: 0.01301 | Val Loss: 0.00151\n",
      "Finished Epoch: 180 | Train Masked Loss: 0.00649 | Train Loss: 0.00090 | Val  Masked Loss: 0.01409 | Val Loss: 0.00160\n",
      "Finished Epoch: 181 | Train Masked Loss: 0.00648 | Train Loss: 0.00090 | Val  Masked Loss: 0.01029 | Val Loss: 0.00135\n",
      "Finished Epoch: 182 | Train Masked Loss: 0.00658 | Train Loss: 0.00092 | Val  Masked Loss: 0.01138 | Val Loss: 0.00132\n",
      "Finished Epoch: 183 | Train Masked Loss: 0.00668 | Train Loss: 0.00093 | Val  Masked Loss: 0.01400 | Val Loss: 0.00160\n",
      "Finished Epoch: 184 | Train Masked Loss: 0.00652 | Train Loss: 0.00091 | Val  Masked Loss: 0.01210 | Val Loss: 0.00139\n",
      "Finished Epoch: 185 | Train Masked Loss: 0.00667 | Train Loss: 0.00092 | Val  Masked Loss: 0.01164 | Val Loss: 0.00134\n",
      "Finished Epoch: 186 | Train Masked Loss: 0.00653 | Train Loss: 0.00091 | Val  Masked Loss: 0.01180 | Val Loss: 0.00143\n",
      "Finished Epoch: 187 | Train Masked Loss: 0.00660 | Train Loss: 0.00091 | Val  Masked Loss: 0.01194 | Val Loss: 0.00137\n",
      "Finished Epoch: 188 | Train Masked Loss: 0.00646 | Train Loss: 0.00090 | Val  Masked Loss: 0.02133 | Val Loss: 0.00236\n",
      "Finished Epoch: 189 | Train Masked Loss: 0.00644 | Train Loss: 0.00090 | Val  Masked Loss: 0.01040 | Val Loss: 0.00133\n",
      "Finished Epoch: 190 | Train Masked Loss: 0.00674 | Train Loss: 0.00093 | Val  Masked Loss: 0.01020 | Val Loss: 0.00119\n",
      "Finished Epoch: 191 | Train Masked Loss: 0.00647 | Train Loss: 0.00090 | Val  Masked Loss: 0.01032 | Val Loss: 0.00121\n",
      "Finished Epoch: 192 | Train Masked Loss: 0.00647 | Train Loss: 0.00090 | Val  Masked Loss: 0.01356 | Val Loss: 0.00153\n",
      "Finished Epoch: 193 | Train Masked Loss: 0.00650 | Train Loss: 0.00090 | Val  Masked Loss: 0.01298 | Val Loss: 0.00148\n",
      "Finished Epoch: 194 | Train Masked Loss: 0.00647 | Train Loss: 0.00090 | Val  Masked Loss: 0.01063 | Val Loss: 0.00125\n",
      "Finished Epoch: 195 | Train Masked Loss: 0.00653 | Train Loss: 0.00091 | Val  Masked Loss: 0.01314 | Val Loss: 0.00150\n",
      "Finished Epoch: 196 | Train Masked Loss: 0.00654 | Train Loss: 0.00091 | Val  Masked Loss: 0.01684 | Val Loss: 0.00188\n",
      "Finished Epoch: 197 | Train Masked Loss: 0.00667 | Train Loss: 0.00092 | Val  Masked Loss: 0.01226 | Val Loss: 0.00141\n",
      "Finished Epoch: 198 | Train Masked Loss: 0.00660 | Train Loss: 0.00091 | Val  Masked Loss: 0.01312 | Val Loss: 0.00149\n",
      "Finished Epoch: 199 | Train Masked Loss: 0.00660 | Train Loss: 0.00092 | Val  Masked Loss: 0.01299 | Val Loss: 0.00148\n",
      "Done!\n"
     ]
    }
   ],
   "source": [
    "# model = ResNet()\n",
    "\n",
    "model = U_Net()\n",
    "\n",
    "epochs = 200\n",
    "learning_rate = 2e-4\n",
    "scheduler = None\n",
    "# scheduler = torch.optim.lr_scheduler.ReduceLROnPlateau(optimizer, mode='min', patience=5, verbose=True)\n",
    "\n",
    "optimizer = torch.optim.Adam(model.parameters(), lr=learning_rate, weight_decay=0.0005)\n",
    "# optimizer = torch.optim.SGD(model.parameters(), lr=learning_rate, momentum=0.9, weight_decay=0.0005)\n",
    "\n",
    "loss_fn = nn.MSELoss()\n",
    "\n",
    "trainer = Trainer(model, optimizer, loss_fn, train_dataloader, valid_dataloader, scheduler=scheduler)\n",
    "trained_model = trainer.run(epochs)"
   ]
  },
  {
   "cell_type": "code",
   "execution_count": 9,
   "metadata": {},
   "outputs": [
    {
     "name": "stdout",
     "output_type": "stream",
     "text": [
      "Using cuda device\n"
     ]
    },
    {
     "name": "stderr",
     "output_type": "stream",
     "text": [
      "Clipping input data to the valid range for imshow with RGB data ([0..1] for floats or [0..255] for integers).\n"
     ]
    },
    {
     "data": {
      "image/png": "[encoded data removed]",
      "text/plain": [
       "<Figure size 1000x1000 with 4 Axes>"
      ]
     },
     "metadata": {},
     "output_type": "display_data"
    }
   ],
   "source": [
    "device = \"cuda\" if torch.cuda.is_available() else \"cpu\"\n",
    "print(\"Using {} device\".format(device))\n",
    "trained_model=model\n",
    "trained_model.eval()\n",
    "\n",
    "\n",
    "with torch.no_grad():\n",
    "    data = iter(train_dataloader).next()\n",
    "    image, label = data['img'].to(device, dtype=torch.float), data['thick_map'].to(device, dtype=torch.float)\n",
    "    output = trained_model(image)\n",
    "    image = image.cpu().numpy().transpose(0,2,3,1)\n",
    "    label = label.cpu().numpy()\n",
    "    output = output.cpu().numpy()\n",
    "\n",
    "    plt.figure(figsize=(10,10))\n",
    "    plt.subplot(1,4,1)\n",
    "    plt.imshow(image[0], cmap='gray')\n",
    "    plt.title('Input Image')\n",
    "    plt.subplot(1,4,2)\n",
    "    plt.imshow(label[0].reshape(128,128), cmap='gray')\n",
    "    plt.title('Ground Truth')\n",
    "    plt.subplot(1,4,3)\n",
    "    plt.imshow(output[0].reshape(128,128), cmap='gray')\n",
    "    plt.title('Predicted Thickness Map')\n",
    "    plt.subplot(1,4,4)\n",
    "    plt.imshow(abs(label[0]-output[0]).reshape(128,128), cmap='gray')\n",
    "    plt.title('Diff')\n",
    "    plt.show()"
   ]
  }
 ],
 "metadata": {
  "kernelspec": {
   "display_name": "projectv2",
   "language": "python",
   "name": "python3"
  },
  "language_info": {
   "codemirror_mode": {
    "name": "ipython",
    "version": 3
   },
   "file_extension": ".py",
   "mimetype": "text/x-python",
   "name": "python",
   "nbconvert_exporter": "python",
   "pygments_lexer": "ipython3",
   "version": "3.9.13"
  },
  "orig_nbformat": 4,
  "vscode": {
   "interpreter": {
    "hash": "270a635b83e65d335eba5d097089b0ff08369f0634f543893019998ee28e2990"
   }
  }
 },
 "nbformat": 4,
 "nbformat_minor": 2
}
