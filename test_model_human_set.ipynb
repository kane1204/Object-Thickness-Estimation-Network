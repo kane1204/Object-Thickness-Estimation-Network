{
 "cells": [
  {
   "cell_type": "code",
   "execution_count": 1,
   "metadata": {},
   "outputs": [],
   "source": [
    "from src.thickness_dataset import ThicknessDataset, ToTensor\n",
    "from src.models import U_Net\n",
    "from src.trainer import Trainer\n",
    "\n",
    "import numpy as np\n",
    "import matplotlib.pyplot as plt\n",
    "\n",
    "import torch\n",
    "from torch.utils.data import DataLoader\n",
    "from torch import nn\n",
    "from tqdm import tqdm\n",
    "\n",
    "import albumentations as A\n",
    "from albumentations.pytorch import ToTensorV2\n",
    "\n",
    "PATH = \"data\\gen_data_6000_v2\""
   ]
  },
  {
   "cell_type": "code",
   "execution_count": 2,
   "metadata": {},
   "outputs": [
    {
     "name": "stderr",
     "output_type": "stream",
     "text": [
      "100%|██████████| 52/52 [00:30<00:00,  1.70it/s]\n"
     ]
    }
   ],
   "source": [
    "augs = A.Compose([A.Normalize(mean = (0, 0, 0),\n",
    "                              std  = (1, 1, 1)),\n",
    "                 ToTensorV2()])\n",
    "thickness_dataset = ThicknessDataset(PATH, transform=augs)\n",
    "\n",
    "# Calculate mean and std\n",
    "image_loader = DataLoader(thickness_dataset, \n",
    "                          batch_size  = 128, \n",
    "                          shuffle     = False, \n",
    "                          num_workers = 4,\n",
    "                          pin_memory  = True)\n",
    "\n",
    "# placeholders\n",
    "psum    = torch.tensor([0.0, 0.0, 0.0])\n",
    "psum_sq = torch.tensor([0.0, 0.0, 0.0])\n",
    "\n",
    "# loop through images\n",
    "for inputs in tqdm(image_loader):\n",
    "    psum    += inputs['img'].sum(axis        = [0, 2, 3])\n",
    "    psum_sq += (inputs['img'] ** 2).sum(axis = [0, 2, 3])\n",
    "\n",
    "# pixel count\n",
    "count = len(thickness_dataset) * 128 * 128\n",
    "\n",
    "# mean and std\n",
    "total_mean = psum / count\n",
    "total_var  = (psum_sq / count) - (total_mean ** 2)\n",
    "total_std  = torch.sqrt(total_var)"
   ]
  },
  {
   "cell_type": "code",
   "execution_count": 3,
   "metadata": {},
   "outputs": [
    {
     "name": "stdout",
     "output_type": "stream",
     "text": [
      "# of samples in test set: 10\n"
     ]
    }
   ],
   "source": [
    "train_split = 0.7\n",
    "valid_split = 0.1\n",
    "\n",
    "HUMAN_SAMPLE_PATH = \"data\\human_samples\"\n",
    "augs = A.Compose([A.Normalize(mean = total_mean,\n",
    "                              std  = total_std),\n",
    "                 ToTensorV2()])\n",
    "thickness_dataset = ThicknessDataset(HUMAN_SAMPLE_PATH, transform=augs)\n",
    "\n",
    "\n",
    "test_dataloader = DataLoader(thickness_dataset, batch_size=128)\n",
    "print(\"# of samples in test set:\", len(thickness_dataset))"
   ]
  },
  {
   "cell_type": "code",
   "execution_count": 4,
   "metadata": {},
   "outputs": [
    {
     "name": "stdout",
     "output_type": "stream",
     "text": [
      "Using cuda device\n"
     ]
    }
   ],
   "source": [
    "path = \"models\\Full train\\model_20230301-145022_114\"\n",
    "device = \"cuda\" if torch.cuda.is_available() else \"cpu\"\n",
    "print(\"Using {} device\".format(device))\n",
    "\n",
    "model = U_Net()\n",
    "\n",
    "criterion = nn.MSELoss()\n",
    "model = model.to(device)\n",
    "model.load_state_dict(torch.load(path))\n",
    "model.eval()\n",
    "trained_model = model"
   ]
  },
  {
   "cell_type": "code",
   "execution_count": 5,
   "metadata": {},
   "outputs": [
    {
     "name": "stdout",
     "output_type": "stream",
     "text": [
      "Test SSIM: 0.9720226434071184\n",
      "Test loss: 0.004953238647431135\n",
      "Test MAPE: 30.865392684936523\n"
     ]
    }
   ],
   "source": [
    "# Get the masked loss for the test set quantative evaluation \n",
    "# https://torchmetrics.readthedocs.io/en/stable/image/peak_signal_noise_ratio.html\n",
    "from skimage.metrics import structural_similarity as ssim\n",
    "from src.evaluation import mse_loss_with_nans\n",
    "from torchmetrics import PeakSignalNoiseRatio\n",
    "full_loss = 0\n",
    "fullstrsim = 0\n",
    "full_mape = 0\n",
    "batches = 0\n",
    "mean_abs_percentage_error = PeakSignalNoiseRatio().to(device)\n",
    "\n",
    "with torch.no_grad():\n",
    "    for data in test_dataloader:\n",
    "        images, labels = data['img'].to(device, dtype=torch.float), data['thick_map'].to(device, dtype=torch.float)\n",
    "        outputs = trained_model(images)\n",
    "        masked_loss = mse_loss_with_nans(outputs, labels)\n",
    "        mape = mean_abs_percentage_error(outputs, labels)\n",
    "        strsim = 0 \n",
    "        for i in range(labels.cpu().numpy().shape[0]):\n",
    "            strsim += ssim(outputs[i].cpu().numpy()[0], labels[i].cpu().numpy()[0])\n",
    "\n",
    "        fullstrsim += strsim/labels.cpu().numpy().shape[0]\n",
    "        full_mape += mape\n",
    "        full_loss += masked_loss\n",
    "        batches += 1\n",
    "print(\"Test SSIM: {}\".format(fullstrsim/batches))\n",
    "print(\"Test loss: {}\".format(full_loss/batches))\n",
    "print(\"Test MAPE: {}\".format(full_mape/batches))"
   ]
  },
  {
   "cell_type": "code",
   "execution_count": 17,
   "metadata": {},
   "outputs": [],
   "source": [
    "# Load the csv with the answers\n",
    "label_dict = {\"red\": 0, \"blue\": 1}\n",
    "import pandas as pd\n",
    "df = pd.read_csv(\"human_sample_actuals.csv\", index_col=0)\n",
    "# sort the idx\n",
    "df = df.sort_index()\n",
    "# apply label_dict to label\n",
    "df[\"label\"] = df[\"label\"].apply(lambda x: label_dict[x])\n",
    "# convert tuple string to tuple on the thickness column\n",
    "df[\"thicker\"] = df[\"thicker\"].apply(lambda x: eval(x))\n",
    "df[\"thinner\"] = df[\"thinner\"].apply(lambda x: eval(x))\n",
    "# calculate the thickness of the human samples\n",
    "with torch.no_grad():\n",
    "    for data in test_dataloader:\n",
    "        samples = data\n",
    "        images, labels = data['img'].to(device, dtype=torch.float), data['thick_map'].to(device, dtype=torch.float)\n",
    "        outputs = trained_model(images)"
   ]
  },
  {
   "cell_type": "code",
   "execution_count": 9,
   "metadata": {},
   "outputs": [
    {
     "data": {
      "text/html": [
       "<div>\n",
       "<style scoped>\n",
       "    .dataframe tbody tr th:only-of-type {\n",
       "        vertical-align: middle;\n",
       "    }\n",
       "\n",
       "    .dataframe tbody tr th {\n",
       "        vertical-align: top;\n",
       "    }\n",
       "\n",
       "    .dataframe thead th {\n",
       "        text-align: right;\n",
       "    }\n",
       "</style>\n",
       "<table border=\"1\" class=\"dataframe\">\n",
       "  <thead>\n",
       "    <tr style=\"text-align: right;\">\n",
       "      <th></th>\n",
       "      <th>file_name</th>\n",
       "      <th>thicker</th>\n",
       "      <th>thinner</th>\n",
       "      <th>label</th>\n",
       "      <th>image_name</th>\n",
       "    </tr>\n",
       "  </thead>\n",
       "  <tbody>\n",
       "    <tr>\n",
       "      <th>0</th>\n",
       "      <td>02808440\\88d183f319cddb7344221bef0fa3c36b\\frame_0</td>\n",
       "      <td>(51, 50)</td>\n",
       "      <td>(53, 97)</td>\n",
       "      <td>1</td>\n",
       "      <td>0_labeled.png</td>\n",
       "    </tr>\n",
       "    <tr>\n",
       "      <th>1</th>\n",
       "      <td>02880940\\899af991203577f019790c8746d79a6f\\frame_0</td>\n",
       "      <td>(68, 57)</td>\n",
       "      <td>(77, 73)</td>\n",
       "      <td>1</td>\n",
       "      <td>1_labeled.png</td>\n",
       "    </tr>\n",
       "    <tr>\n",
       "      <th>2</th>\n",
       "      <td>02942699\\ce40b134b11e8c822bbc2c380e91dfe2\\frame_1</td>\n",
       "      <td>(92, 64)</td>\n",
       "      <td>(75, 64)</td>\n",
       "      <td>0</td>\n",
       "      <td>2_labeled.png</td>\n",
       "    </tr>\n",
       "    <tr>\n",
       "      <th>3</th>\n",
       "      <td>02958343\\ba494b33be3a3e0dc1bbb501b1d87871\\frame_1</td>\n",
       "      <td>(55, 65)</td>\n",
       "      <td>(64, 45)</td>\n",
       "      <td>0</td>\n",
       "      <td>3_labeled.png</td>\n",
       "    </tr>\n",
       "    <tr>\n",
       "      <th>4</th>\n",
       "      <td>03761084\\46dbba829a57ace8cffd61677456447e\\frame_0</td>\n",
       "      <td>(51, 66)</td>\n",
       "      <td>(67, 92)</td>\n",
       "      <td>1</td>\n",
       "      <td>4_labeled.png</td>\n",
       "    </tr>\n",
       "    <tr>\n",
       "      <th>5</th>\n",
       "      <td>03991062\\67bc9bec05f78850f9e08161aea27d2f\\frame_0</td>\n",
       "      <td>(70, 54)</td>\n",
       "      <td>(46, 67)</td>\n",
       "      <td>0</td>\n",
       "      <td>5_labeled.png</td>\n",
       "    </tr>\n",
       "    <tr>\n",
       "      <th>6</th>\n",
       "      <td>04225987\\1d527bbed4d12817fa3bb91f4e3cd35f\\frame_0</td>\n",
       "      <td>(68, 47)</td>\n",
       "      <td>(61, 50)</td>\n",
       "      <td>0</td>\n",
       "      <td>6_labeled.png</td>\n",
       "    </tr>\n",
       "    <tr>\n",
       "      <th>7</th>\n",
       "      <td>04256520\\bc6a3fa659dd7ec0c62ac18334863d36\\frame_1</td>\n",
       "      <td>(76, 48)</td>\n",
       "      <td>(51, 90)</td>\n",
       "      <td>1</td>\n",
       "      <td>7_labeled.png</td>\n",
       "    </tr>\n",
       "    <tr>\n",
       "      <th>8</th>\n",
       "      <td>04401088\\f400eb5421283e8a102f4912aece242b\\frame_2</td>\n",
       "      <td>(75, 62)</td>\n",
       "      <td>(42, 63)</td>\n",
       "      <td>1</td>\n",
       "      <td>8_labeled.png</td>\n",
       "    </tr>\n",
       "    <tr>\n",
       "      <th>9</th>\n",
       "      <td>04460130\\15cc3d9020384e8d6e09a8e31c7575c5\\frame_2</td>\n",
       "      <td>(64, 67)</td>\n",
       "      <td>(67, 27)</td>\n",
       "      <td>1</td>\n",
       "      <td>9_labeled.png</td>\n",
       "    </tr>\n",
       "  </tbody>\n",
       "</table>\n",
       "</div>"
      ],
      "text/plain": [
       "                                           file_name   thicker   thinner  \\\n",
       "0  02808440\\88d183f319cddb7344221bef0fa3c36b\\frame_0  (51, 50)  (53, 97)   \n",
       "1  02880940\\899af991203577f019790c8746d79a6f\\frame_0  (68, 57)  (77, 73)   \n",
       "2  02942699\\ce40b134b11e8c822bbc2c380e91dfe2\\frame_1  (92, 64)  (75, 64)   \n",
       "3  02958343\\ba494b33be3a3e0dc1bbb501b1d87871\\frame_1  (55, 65)  (64, 45)   \n",
       "4  03761084\\46dbba829a57ace8cffd61677456447e\\frame_0  (51, 66)  (67, 92)   \n",
       "5  03991062\\67bc9bec05f78850f9e08161aea27d2f\\frame_0  (70, 54)  (46, 67)   \n",
       "6  04225987\\1d527bbed4d12817fa3bb91f4e3cd35f\\frame_0  (68, 47)  (61, 50)   \n",
       "7  04256520\\bc6a3fa659dd7ec0c62ac18334863d36\\frame_1  (76, 48)  (51, 90)   \n",
       "8  04401088\\f400eb5421283e8a102f4912aece242b\\frame_2  (75, 62)  (42, 63)   \n",
       "9  04460130\\15cc3d9020384e8d6e09a8e31c7575c5\\frame_2  (64, 67)  (67, 27)   \n",
       "\n",
       "   label     image_name  \n",
       "0      1  0_labeled.png  \n",
       "1      1  1_labeled.png  \n",
       "2      0  2_labeled.png  \n",
       "3      0  3_labeled.png  \n",
       "4      1  4_labeled.png  \n",
       "5      0  5_labeled.png  \n",
       "6      0  6_labeled.png  \n",
       "7      1  7_labeled.png  \n",
       "8      1  8_labeled.png  \n",
       "9      1  9_labeled.png  "
      ]
     },
     "execution_count": 9,
     "metadata": {},
     "output_type": "execute_result"
    }
   ],
   "source": [
    "df"
   ]
  },
  {
   "cell_type": "code",
   "execution_count": 66,
   "metadata": {},
   "outputs": [
    {
     "name": "stdout",
     "output_type": "stream",
     "text": [
      "Accuracy: 1.0\n"
     ]
    }
   ],
   "source": [
    "# we loop thru every sample in the batch and retrieve the thickness of both points and check that the thicker one is greater than the thinner one\n",
    "correct = 0\n",
    "for i in range(labels.cpu().numpy().shape[0]):\n",
    "    pred = outputs[i].cpu().numpy()\n",
    "    thicker = df[\"thicker\"][i]\n",
    "    thinner = df[\"thinner\"][i]\n",
    "    thick_pred = pred[0][thicker[0]][thicker[1]]\n",
    "    thin_pred = pred[0][thinner[0]][thinner[1]]\n",
    "    if thick_pred > thin_pred:\n",
    "        correct += 1\n",
    "print(\"Accuracy: {}\".format(correct/labels.cpu().numpy().shape[0]))"
   ]
  },
  {
   "cell_type": "code",
   "execution_count": 76,
   "metadata": {},
   "outputs": [
    {
     "name": "stdout",
     "output_type": "stream",
     "text": [
      "Correctly predicted 0.08489247 > 0.04776931\n"
     ]
    },
    {
     "data": {
      "image/png": "[encoded data removed]",
      "text/plain": [
       "<Figure size 1000x1000 with 3 Axes>"
      ]
     },
     "metadata": {},
     "output_type": "display_data"
    },
    {
     "name": "stdout",
     "output_type": "stream",
     "text": [
      "Structure Simililarity:  0.9716728815225024\n"
     ]
    }
   ],
   "source": [
    "# test visualisation/ qualitative evaluation\n",
    "from skimage.metrics import structural_similarity as ssim\n",
    "idx = 2\n",
    "# sample = samples[idx]\n",
    "output = outputs[idx]\n",
    "with torch.no_grad():\n",
    "    image, label = samples['img'][idx].to(device, dtype=torch.float), samples['thick_map'][idx].to(device, dtype=torch.float)\n",
    "    image = image.cpu().numpy()\n",
    "    label = label.cpu().numpy()\n",
    "    output = output.cpu().numpy()\n",
    "   \n",
    "    fig = plt.figure(figsize=(10,10))\n",
    "\n",
    "    plt.subplot(1,3,1)\n",
    "    plt.imshow(image[0], cmap='plasma')\n",
    "    plt.title('Input Image')\n",
    "    plt.subplot(1,3,2)\n",
    "    plt.imshow(label[0], cmap='plasma')\n",
    "    plt.title('Ground Truth')\n",
    "    plt.subplot(1,3,3)\n",
    "    plt.imshow(output[0], cmap='plasma')\n",
    "    # add a single point to the image\n",
    "    thick_pt = df.loc[idx, \"thicker\"]\n",
    "    thinner_pt = df.loc[idx, \"thinner\"]\n",
    "    plt.scatter(thick_pt[1], thick_pt[0], c='r', s=0.5)\n",
    "    plt.scatter(thinner_pt[1], thinner_pt[0], c='b', s=0.5)\n",
    "    thickpred = output[0][thick_pt[0]][thick_pt[1]]\n",
    "    thinnerpred = output[0][thinner_pt[0]][thinner_pt[1]]\n",
    "    if thickpred > thinnerpred:\n",
    "        print(\"Correctly predicted\", thickpred, \">\", thinnerpred)\n",
    "    else:\n",
    "        print(\"Incorrectly predicted\", thickpred, \"<\", thinnerpred)\n",
    "\n",
    "    plt.title('Predicted Thickness Map')\n",
    "\n",
    "    plt.show()\n",
    "print(\"Structure Simililarity: \",ssim(label[0], output[0].reshape(128,128)))"
   ]
  }
 ],
 "metadata": {
  "kernelspec": {
   "display_name": "projectv2",
   "language": "python",
   "name": "python3"
  },
  "language_info": {
   "codemirror_mode": {
    "name": "ipython",
    "version": 3
   },
   "file_extension": ".py",
   "mimetype": "text/x-python",
   "name": "python",
   "nbconvert_exporter": "python",
   "pygments_lexer": "ipython3",
   "version": "3.9.13"
  },
  "orig_nbformat": 4,
  "vscode": {
   "interpreter": {
    "hash": "270a635b83e65d335eba5d097089b0ff08369f0634f543893019998ee28e2990"
   }
  }
 },
 "nbformat": 4,
 "nbformat_minor": 2
}
