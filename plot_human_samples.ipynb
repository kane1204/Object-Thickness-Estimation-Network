{
 "cells": [
  {
   "cell_type": "code",
   "execution_count": 1,
   "metadata": {},
   "outputs": [],
   "source": [
    "# load a csv file into pandas\n",
    "import pandas as pd\n",
    "import matplotlib.pyplot as plt\n",
    "import numpy as np\n",
    "import seaborn as sns\n",
    "import os\n",
    "\n",
    "# read in the xlsx file called quiz_responses.xlsx top column is the index\n",
    "df = pd.read_excel('quiz_responses.xlsx', index_col=0)"
   ]
  },
  {
   "cell_type": "code",
   "execution_count": 2,
   "metadata": {},
   "outputs": [],
   "source": [
    "# drop colums with nan values\n",
    "df = df.dropna(axis=1, how='all')\n",
    "# Total Points column that > 0 is kept\n",
    "df = df[df['Total points'] > 0]\n",
    "# drop Permission column\n",
    "df = df.drop('Permission', axis=1)\n",
    "df = df.drop('Email', axis=1)"
   ]
  },
  {
   "cell_type": "code",
   "execution_count": 3,
   "metadata": {},
   "outputs": [
    {
     "data": {
      "text/html": [
       "<div>\n",
       "<style scoped>\n",
       "    .dataframe tbody tr th:only-of-type {\n",
       "        vertical-align: middle;\n",
       "    }\n",
       "\n",
       "    .dataframe tbody tr th {\n",
       "        vertical-align: top;\n",
       "    }\n",
       "\n",
       "    .dataframe thead th {\n",
       "        text-align: right;\n",
       "    }\n",
       "</style>\n",
       "<table border=\"1\" class=\"dataframe\">\n",
       "  <thead>\n",
       "    <tr style=\"text-align: right;\">\n",
       "      <th></th>\n",
       "      <th>Start time</th>\n",
       "      <th>Completion time</th>\n",
       "      <th>Total points</th>\n",
       "      <th>Q1</th>\n",
       "      <th>Points - Q1</th>\n",
       "      <th>Q2</th>\n",
       "      <th>Points - Q2</th>\n",
       "      <th>Q3</th>\n",
       "      <th>Points - Q3</th>\n",
       "      <th>Q4</th>\n",
       "      <th>...</th>\n",
       "      <th>Q6</th>\n",
       "      <th>Points - Q6</th>\n",
       "      <th>Q7</th>\n",
       "      <th>Points - Q7</th>\n",
       "      <th>Q8</th>\n",
       "      <th>Points - Q8</th>\n",
       "      <th>Q9</th>\n",
       "      <th>Points - Q9</th>\n",
       "      <th>Q10</th>\n",
       "      <th>Points - Q10</th>\n",
       "    </tr>\n",
       "    <tr>\n",
       "      <th>ID</th>\n",
       "      <th></th>\n",
       "      <th></th>\n",
       "      <th></th>\n",
       "      <th></th>\n",
       "      <th></th>\n",
       "      <th></th>\n",
       "      <th></th>\n",
       "      <th></th>\n",
       "      <th></th>\n",
       "      <th></th>\n",
       "      <th></th>\n",
       "      <th></th>\n",
       "      <th></th>\n",
       "      <th></th>\n",
       "      <th></th>\n",
       "      <th></th>\n",
       "      <th></th>\n",
       "      <th></th>\n",
       "      <th></th>\n",
       "      <th></th>\n",
       "      <th></th>\n",
       "    </tr>\n",
       "  </thead>\n",
       "  <tbody>\n",
       "    <tr>\n",
       "      <th>11</th>\n",
       "      <td>2023-03-21 17:41:47</td>\n",
       "      <td>2023-03-21 17:43:04</td>\n",
       "      <td>9</td>\n",
       "      <td>Blue Point is thicker</td>\n",
       "      <td>1</td>\n",
       "      <td>Red Point is thicker</td>\n",
       "      <td>1</td>\n",
       "      <td>Red Point is thicker</td>\n",
       "      <td>1</td>\n",
       "      <td>Red Point is thicker</td>\n",
       "      <td>...</td>\n",
       "      <td>Blue Point is thicker</td>\n",
       "      <td>1</td>\n",
       "      <td>Blue Point is thicker</td>\n",
       "      <td>1</td>\n",
       "      <td>Red Point is thicker</td>\n",
       "      <td>1</td>\n",
       "      <td>Blue Point is thicker</td>\n",
       "      <td>1</td>\n",
       "      <td>Red Point is thicker</td>\n",
       "      <td>0</td>\n",
       "    </tr>\n",
       "    <tr>\n",
       "      <th>12</th>\n",
       "      <td>2023-03-22 15:24:24</td>\n",
       "      <td>2023-03-22 15:25:11</td>\n",
       "      <td>6</td>\n",
       "      <td>Red Point is thicker</td>\n",
       "      <td>0</td>\n",
       "      <td>Red Point is thicker</td>\n",
       "      <td>1</td>\n",
       "      <td>Blue Point is thicker</td>\n",
       "      <td>0</td>\n",
       "      <td>Red Point is thicker</td>\n",
       "      <td>...</td>\n",
       "      <td>Blue Point is thicker</td>\n",
       "      <td>1</td>\n",
       "      <td>Blue Point is thicker</td>\n",
       "      <td>1</td>\n",
       "      <td>Red Point is thicker</td>\n",
       "      <td>1</td>\n",
       "      <td>Red Point is thicker</td>\n",
       "      <td>0</td>\n",
       "      <td>Red Point is thicker</td>\n",
       "      <td>0</td>\n",
       "    </tr>\n",
       "    <tr>\n",
       "      <th>13</th>\n",
       "      <td>2023-03-22 15:24:11</td>\n",
       "      <td>2023-03-22 15:26:04</td>\n",
       "      <td>8</td>\n",
       "      <td>Blue Point is thicker</td>\n",
       "      <td>1</td>\n",
       "      <td>Red Point is thicker</td>\n",
       "      <td>1</td>\n",
       "      <td>Red Point is thicker</td>\n",
       "      <td>1</td>\n",
       "      <td>Red Point is thicker</td>\n",
       "      <td>...</td>\n",
       "      <td>Blue Point is thicker</td>\n",
       "      <td>1</td>\n",
       "      <td>Blue Point is thicker</td>\n",
       "      <td>1</td>\n",
       "      <td>Cannot tell</td>\n",
       "      <td>0</td>\n",
       "      <td>Cannot tell</td>\n",
       "      <td>0</td>\n",
       "      <td>Blue Point is thicker</td>\n",
       "      <td>1</td>\n",
       "    </tr>\n",
       "    <tr>\n",
       "      <th>14</th>\n",
       "      <td>2023-03-22 15:24:26</td>\n",
       "      <td>2023-03-22 15:26:16</td>\n",
       "      <td>8</td>\n",
       "      <td>Blue Point is thicker</td>\n",
       "      <td>1</td>\n",
       "      <td>Red Point is thicker</td>\n",
       "      <td>1</td>\n",
       "      <td>Red Point is thicker</td>\n",
       "      <td>1</td>\n",
       "      <td>Red Point is thicker</td>\n",
       "      <td>...</td>\n",
       "      <td>Blue Point is thicker</td>\n",
       "      <td>1</td>\n",
       "      <td>Blue Point is thicker</td>\n",
       "      <td>1</td>\n",
       "      <td>Cannot tell</td>\n",
       "      <td>0</td>\n",
       "      <td>Blue Point is thicker</td>\n",
       "      <td>1</td>\n",
       "      <td>Cannot tell</td>\n",
       "      <td>0</td>\n",
       "    </tr>\n",
       "    <tr>\n",
       "      <th>15</th>\n",
       "      <td>2023-03-22 15:23:58</td>\n",
       "      <td>2023-03-22 15:27:23</td>\n",
       "      <td>6</td>\n",
       "      <td>Red Point is thicker</td>\n",
       "      <td>0</td>\n",
       "      <td>Red Point is thicker</td>\n",
       "      <td>1</td>\n",
       "      <td>Red Point is thicker</td>\n",
       "      <td>1</td>\n",
       "      <td>Red Point is thicker</td>\n",
       "      <td>...</td>\n",
       "      <td>Blue Point is thicker</td>\n",
       "      <td>1</td>\n",
       "      <td>Red Point is thicker</td>\n",
       "      <td>0</td>\n",
       "      <td>Cannot tell</td>\n",
       "      <td>0</td>\n",
       "      <td>Blue Point is thicker</td>\n",
       "      <td>1</td>\n",
       "      <td>Blue Point is thicker</td>\n",
       "      <td>1</td>\n",
       "    </tr>\n",
       "  </tbody>\n",
       "</table>\n",
       "<p>5 rows × 23 columns</p>\n",
       "</div>"
      ],
      "text/plain": [
       "            Start time     Completion time  Total points  \\\n",
       "ID                                                         \n",
       "11 2023-03-21 17:41:47 2023-03-21 17:43:04             9   \n",
       "12 2023-03-22 15:24:24 2023-03-22 15:25:11             6   \n",
       "13 2023-03-22 15:24:11 2023-03-22 15:26:04             8   \n",
       "14 2023-03-22 15:24:26 2023-03-22 15:26:16             8   \n",
       "15 2023-03-22 15:23:58 2023-03-22 15:27:23             6   \n",
       "\n",
       "                       Q1  Points - Q1                    Q2  Points - Q2  \\\n",
       "ID                                                                          \n",
       "11  Blue Point is thicker            1  Red Point is thicker            1   \n",
       "12   Red Point is thicker            0  Red Point is thicker            1   \n",
       "13  Blue Point is thicker            1  Red Point is thicker            1   \n",
       "14  Blue Point is thicker            1  Red Point is thicker            1   \n",
       "15   Red Point is thicker            0  Red Point is thicker            1   \n",
       "\n",
       "                       Q3  Points - Q3                    Q4  ...  \\\n",
       "ID                                                            ...   \n",
       "11   Red Point is thicker            1  Red Point is thicker  ...   \n",
       "12  Blue Point is thicker            0  Red Point is thicker  ...   \n",
       "13   Red Point is thicker            1  Red Point is thicker  ...   \n",
       "14   Red Point is thicker            1  Red Point is thicker  ...   \n",
       "15   Red Point is thicker            1  Red Point is thicker  ...   \n",
       "\n",
       "                       Q6 Points - Q6                     Q7 Points - Q7  \\\n",
       "ID                                                                         \n",
       "11  Blue Point is thicker           1  Blue Point is thicker           1   \n",
       "12  Blue Point is thicker           1  Blue Point is thicker           1   \n",
       "13  Blue Point is thicker           1  Blue Point is thicker           1   \n",
       "14  Blue Point is thicker           1  Blue Point is thicker           1   \n",
       "15  Blue Point is thicker           1   Red Point is thicker           0   \n",
       "\n",
       "                      Q8 Points - Q8                     Q9 Points - Q9  \\\n",
       "ID                                                                        \n",
       "11  Red Point is thicker           1  Blue Point is thicker           1   \n",
       "12  Red Point is thicker           1   Red Point is thicker           0   \n",
       "13           Cannot tell           0            Cannot tell           0   \n",
       "14           Cannot tell           0  Blue Point is thicker           1   \n",
       "15           Cannot tell           0  Blue Point is thicker           1   \n",
       "\n",
       "                      Q10 Points - Q10  \n",
       "ID                                      \n",
       "11   Red Point is thicker            0  \n",
       "12   Red Point is thicker            0  \n",
       "13  Blue Point is thicker            1  \n",
       "14            Cannot tell            0  \n",
       "15  Blue Point is thicker            1  \n",
       "\n",
       "[5 rows x 23 columns]"
      ]
     },
     "execution_count": 3,
     "metadata": {},
     "output_type": "execute_result"
    }
   ],
   "source": [
    "df.head()"
   ]
  },
  {
   "cell_type": "code",
   "execution_count": 4,
   "metadata": {},
   "outputs": [
    {
     "name": "stdout",
     "output_type": "stream",
     "text": [
      "Number of participants:  36\n"
     ]
    }
   ],
   "source": [
    "print(\"Number of participants: \", len(df.index))\n",
    "# sum each of the columns \n"
   ]
  },
  {
   "cell_type": "code",
   "execution_count": 5,
   "metadata": {},
   "outputs": [
    {
     "data": {
      "text/plain": [
       "<AxesSubplot: xlabel='ID'>"
      ]
     },
     "execution_count": 5,
     "metadata": {},
     "output_type": "execute_result"
    },
    {
     "data": {
      "image/png": "[encoded data removed]",
      "text/plain": [
       "<Figure size 1000x500 with 1 Axes>"
      ]
     },
     "metadata": {},
     "output_type": "display_data"
    }
   ],
   "source": [
    "# performance of each row (participant)\n",
    "df['Total points'].plot(kind='bar', figsize=(10,5))"
   ]
  },
  {
   "cell_type": "code",
   "execution_count": 6,
   "metadata": {},
   "outputs": [
    {
     "data": {
      "image/png": "[encoded data removed]",
      "text/plain": [
       "<Figure size 640x480 with 1 Axes>"
      ]
     },
     "metadata": {},
     "output_type": "display_data"
    }
   ],
   "source": [
    "# plot pts_for_each_q without total points and devide by the total participants\n",
    "pts_for_each_q = df.sum(numeric_only=True)\n",
    "# remove \"Points - \" from each row name\n",
    "pts_for_each_q.index = pts_for_each_q.index.str.replace('Points - Q', '')\n",
    "pts_for_each_q = pts_for_each_q.drop('Total points')\n",
    "pts_for_each_q = (pts_for_each_q/len(df.index) )\n",
    "fig = pts_for_each_q.plot(kind='bar', title='Average accuracy over all particpants per question')\n",
    "# x axis label\n",
    "plt.xlabel('Question')\n",
    "# y axis label\n",
    "plt.ylabel('Average accuracy')\n",
    "# save the plot as pdf\n",
    "plt.savefig('figs\\\\humans\\\\Average_accuracy_over_all_particpants_per_question.pdf')"
   ]
  },
  {
   "cell_type": "code",
   "execution_count": 8,
   "metadata": {},
   "outputs": [
    {
     "name": "stdout",
     "output_type": "stream",
     "text": [
      "Average value overall:  0.8722222222222221\n"
     ]
    }
   ],
   "source": [
    "# average value overall\n",
    "print(\"Average value overall: \", pts_for_each_q.mean())"
   ]
  }
 ],
 "metadata": {
  "kernelspec": {
   "display_name": "projectv2",
   "language": "python",
   "name": "python3"
  },
  "language_info": {
   "codemirror_mode": {
    "name": "ipython",
    "version": 3
   },
   "file_extension": ".py",
   "mimetype": "text/x-python",
   "name": "python",
   "nbconvert_exporter": "python",
   "pygments_lexer": "ipython3",
   "version": "3.9.13"
  },
  "orig_nbformat": 4,
  "vscode": {
   "interpreter": {
    "hash": "270a635b83e65d335eba5d097089b0ff08369f0634f543893019998ee28e2990"
   }
  }
 },
 "nbformat": 4,
 "nbformat_minor": 2
}
