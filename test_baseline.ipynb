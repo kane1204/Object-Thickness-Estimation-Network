{
 "cells": [
  {
   "cell_type": "code",
   "execution_count": 1,
   "metadata": {},
   "outputs": [],
   "source": [
    "from src.thickness_dataset import ThicknessDataset, ToTensor\n",
    "from src.models import U_Net\n",
    "from src.trainer import Trainer\n",
    "\n",
    "import numpy as np\n",
    "import matplotlib.pyplot as plt\n",
    "\n",
    "import torch\n",
    "from torch.utils.data import DataLoader\n",
    "from torch import nn\n",
    "from tqdm import tqdm\n",
    "\n",
    "import albumentations as A\n",
    "from albumentations.pytorch import ToTensorV2\n",
    "\n",
    "PATH = \"data\\gen_data_6000_v2\""
   ]
  },
  {
   "cell_type": "code",
   "execution_count": 2,
   "metadata": {},
   "outputs": [
    {
     "name": "stderr",
     "output_type": "stream",
     "text": [
      "100%|██████████| 52/52 [00:36<00:00,  1.41it/s]\n"
     ]
    }
   ],
   "source": [
    "augs = A.Compose([A.Normalize(mean = (0, 0, 0),\n",
    "                              std  = (1, 1, 1)),\n",
    "                 ToTensorV2()])\n",
    "thickness_dataset = ThicknessDataset(PATH, transform=augs)\n",
    "\n",
    "# Calculate mean and std\n",
    "image_loader = DataLoader(thickness_dataset, \n",
    "                          batch_size  = 128, \n",
    "                          shuffle     = False, \n",
    "                          num_workers = 4,\n",
    "                          pin_memory  = True)\n",
    "\n",
    "# placeholders\n",
    "psum    = torch.tensor([0.0, 0.0, 0.0])\n",
    "psum_sq = torch.tensor([0.0, 0.0, 0.0])\n",
    "\n",
    "# loop through images\n",
    "for inputs in tqdm(image_loader):\n",
    "    psum    += inputs['img'].sum(axis        = [0, 2, 3])\n",
    "    psum_sq += (inputs['img'] ** 2).sum(axis = [0, 2, 3])\n",
    "\n",
    "# pixel count\n",
    "count = len(thickness_dataset) * 128 * 128\n",
    "\n",
    "# mean and std\n",
    "total_mean = psum / count\n",
    "total_var  = (psum_sq / count) - (total_mean ** 2)\n",
    "total_std  = torch.sqrt(total_var)"
   ]
  },
  {
   "cell_type": "code",
   "execution_count": 3,
   "metadata": {},
   "outputs": [],
   "source": [
    "from torch.utils.data import DataLoader, Subset\n",
    "\n",
    "def customRandomSplit(dataset, train_size, val_size, test_size):\n",
    "    # TODO: DONT think its adding in the indices +1 and +2 need to add that to all the indices arrays\n",
    "    rnd_Seed=42\n",
    "    mandatory_test_models = [\"88d183f319cddb7344221bef0fa3c36b\",\"ce40b134b11e8c822bbc2c380e91dfe2\",\"67bc9bec05f78850f9e08161aea27d2f\",\"ba494b33be3a3e0dc1bbb501b1d87871\",\"15cc3d9020384e8d6e09a8e31c7575c5\",\"bc6a3fa659dd7ec0c62ac18334863d36\",\"46dbba829a57ace8cffd61677456447e\",\"1d527bbed4d12817fa3bb91f4e3cd35f\",\"f400eb5421283e8a102f4912aece242b\",\"899af991203577f019790c8746d79a6f\"]\n",
    "    data_len = len(dataset)\n",
    "    train_size = int(round((train_size * data_len)/3))\n",
    "    val_size   = int(round((val_size * data_len)/3))\n",
    "    test_size  = int(round((test_size * data_len)/3))\n",
    "\n",
    "    assert train_size*3 + val_size*3 + test_size*3 == data_len, \"The split sizes do not add up to the dataset size\"\n",
    "    # Using pytorch subsets to split the dataset\n",
    "    # 3 is the number of frames per model\n",
    "    # randomly sample indices for the train size\n",
    "    choices = np.arange(0, data_len, 3, dtype=int)\n",
    "    # get the index numbers for the mandatory test models from dataset dataframe\n",
    "    mandatory_test_indices = []\n",
    "    for i in range(len(mandatory_test_models)):\n",
    "        mandatory_test_indices.append(thickness_dataset.dataframe[thickness_dataset.dataframe[\"model_id\"] == mandatory_test_models[i]].index[0])\n",
    "    mandatory_test_indices = np.array(np.array(mandatory_test_indices), dtype=int)\n",
    "    # remove the values in mandatory_test_indices from the choices\n",
    "    choices = np.setdiff1d(choices, mandatory_test_indices)\n",
    "    \n",
    "    np.random.seed(rnd_Seed)\n",
    "    np.random.shuffle(choices)\n",
    "    # randomly sample indices for the train size\n",
    "    train_indices = choices[:train_size]\n",
    "    # randomly sample indices for the val size\n",
    "    val_indices = choices[train_size:train_size+val_size]\n",
    "    # randomly sample indices for the test size\n",
    "    test_indices = choices[train_size+val_size:train_size+val_size+test_size]\n",
    "    # add the mandatory test indices to the test indices\n",
    "    test_indices = np.concatenate((test_indices, mandatory_test_indices))\n",
    "    # final check the values in mandatory_test_indices are in test_indices\n",
    "    assert np.all(np.isin(mandatory_test_indices, test_indices)), \"The mandatory test indices are not in the test indices\"\n",
    "    # check mandatory_test_indices values arent in the other 2\n",
    "    assert np.all(np.isin(mandatory_test_indices, train_indices)) == False, \"The mandatory test indices are in the train indices\"\n",
    "    assert np.all(np.isin(mandatory_test_indices, val_indices)) == False, \"The mandatory test indices are in the val indices\"\n",
    "\n",
    "\n",
    "    train_indices = np.concatenate((train_indices, train_indices+1, train_indices+2))\n",
    "    val_indices = np.concatenate((val_indices, val_indices+1, val_indices+2))\n",
    "    test_indices = np.concatenate((test_indices, test_indices+1, test_indices+2))\n",
    "    # no intersections between the sets\n",
    "    it = np.intersect1d(train_indices, val_indices)\n",
    "    it2 = np.intersect1d(train_indices, test_indices)\n",
    "    it3 = np.intersect1d(val_indices, test_indices)\n",
    "    assert len(it) == 0 , f\"The train and val sets have the same indices {it}\"\n",
    "    assert len(it2) == 0 , f\"The train and test sets have the same indices {it2}\"\n",
    "    assert len(it3) == 0 , f\"The val and test sets have the same indices{it3}\"\n",
    "    \n",
    "    # create the subsets\n",
    "    train_set = Subset(dataset, train_indices)\n",
    "    val_set   = Subset(dataset, val_indices,)\n",
    "    test_set  = Subset(dataset, test_indices)\n",
    "    assert len(train_set) + len(val_set) + len(test_set) == data_len, \"The split sizes do not add up to the dataset size\"\n",
    "    return train_set, val_set, test_set"
   ]
  },
  {
   "cell_type": "code",
   "execution_count": 4,
   "metadata": {},
   "outputs": [
    {
     "name": "stdout",
     "output_type": "stream",
     "text": [
      "# of samples in test set: 1311\n"
     ]
    }
   ],
   "source": [
    "train_split = 0.7\n",
    "valid_split = 0.1\n",
    "test_split = 0.2\n",
    "augs = A.Compose([A.Normalize(mean = total_mean,\n",
    "                              std  = total_std),\n",
    "                 ToTensorV2()])\n",
    "thickness_dataset = ThicknessDataset(PATH, transform=augs)\n",
    "\n",
    "\n",
    "\n",
    "train_dataset, valid_dataset, test_dataset = customRandomSplit(thickness_dataset, train_split, valid_split, test_split)\n",
    "\n",
    "batch_size = 16\n",
    "\n",
    "train_dataloader = DataLoader(train_dataset, batch_size=batch_size)\n",
    "valid_dataloader = DataLoader(valid_dataset, batch_size=batch_size)\n",
    "test_dataloader = DataLoader(test_dataset, batch_size=128)\n",
    "print(\"# of samples in test set:\", len(test_dataset))"
   ]
  },
  {
   "cell_type": "code",
   "execution_count": 5,
   "metadata": {},
   "outputs": [
    {
     "name": "stdout",
     "output_type": "stream",
     "text": [
      "Mean depth over all batches: tensor([[[0., 0., 0.,  ..., 0., 0., 0.],\n",
      "         [0., 0., 0.,  ..., 0., 0., 0.],\n",
      "         [0., 0., 0.,  ..., 0., 0., 0.],\n",
      "         ...,\n",
      "         [0., 0., 0.,  ..., 0., 0., 0.],\n",
      "         [0., 0., 0.,  ..., 0., 0., 0.],\n",
      "         [0., 0., 0.,  ..., 0., 0., 0.]]])\n"
     ]
    }
   ],
   "source": [
    "no_of_batch =0\n",
    "depth_sum = torch.zeros(1,128,128)\n",
    "for batch in train_dataloader:\n",
    "    # Get the depth maps for the batch\n",
    "    thick_map = batch[\"thick_map\"]\n",
    "    # Accumulate the sum of depth maps and the number of pixels\n",
    "    depth_sum += torch.mean(thick_map, dim=0)\n",
    "    no_of_batch +=1\n",
    "# Calculate the mean depth over all batches\n",
    "mean_depth = depth_sum / no_of_batch\n",
    "# show the mean depth in a graph\n",
    "print(\"Mean depth over all batches:\", mean_depth)"
   ]
  },
  {
   "cell_type": "code",
   "execution_count": 6,
   "metadata": {},
   "outputs": [
    {
     "data": {
      "text/plain": [
       "<matplotlib.image.AxesImage at 0x2124a728f40>"
      ]
     },
     "execution_count": 6,
     "metadata": {},
     "output_type": "execute_result"
    },
    {
     "data": {
      "image/png": "[encoded data removed]",
      "text/plain": [
       "<Figure size 640x480 with 1 Axes>"
      ]
     },
     "metadata": {},
     "output_type": "display_data"
    }
   ],
   "source": [
    "plt.imshow(mean_depth[0], cmap=\"gray\")"
   ]
  },
  {
   "cell_type": "code",
   "execution_count": 7,
   "metadata": {},
   "outputs": [
    {
     "name": "stdout",
     "output_type": "stream",
     "text": [
      "Using cuda device\n"
     ]
    }
   ],
   "source": [
    "device = \"cuda\" if torch.cuda.is_available() else \"cpu\"\n",
    "print(\"Using {} device\".format(device))"
   ]
  },
  {
   "cell_type": "code",
   "execution_count": 8,
   "metadata": {},
   "outputs": [
    {
     "name": "stdout",
     "output_type": "stream",
     "text": [
      "Test SSIM: 0.7866364154581305\n",
      "Test loss: 0.03993441164493561\n",
      "Test MAPE: 22.21748924255371\n"
     ]
    }
   ],
   "source": [
    "# Get the masked loss for the test set quantative evaluation \n",
    "# https://torchmetrics.readthedocs.io/en/stable/image/peak_signal_noise_ratio.html\n",
    "from skimage.metrics import structural_similarity as ssim\n",
    "from src.evaluation import mse_loss_with_nans\n",
    "from torchmetrics import PeakSignalNoiseRatio\n",
    "full_loss = 0\n",
    "fullstrsim = 0\n",
    "full_mape = 0\n",
    "batches = 0\n",
    "mean_abs_percentage_error = PeakSignalNoiseRatio().to(device)\n",
    "\n",
    "with torch.no_grad():\n",
    "    for data in test_dataloader:\n",
    "        labels = data['thick_map'].to(device, dtype=torch.float)\n",
    "        # outputs = trained_model(images)\n",
    "        # print(labels.shape[0])\n",
    "        # using the length of the batch to calculate the mean of the batch\n",
    "\n",
    "        outputs = torch.ones(labels.shape[0], 1, 128, 128).to(device, dtype=torch.float)\n",
    "        outputs = outputs * mean_depth.to(device, dtype=torch.float)\n",
    "\n",
    "        masked_loss = mse_loss_with_nans(outputs, labels)\n",
    "        mape = mean_abs_percentage_error(outputs, labels)\n",
    "        strsim = 0 \n",
    "        for i in range(labels.cpu().numpy().shape[0]):\n",
    "            strsim += ssim(outputs[i].cpu().numpy()[0], labels[i].cpu().numpy()[0])\n",
    "\n",
    "        fullstrsim += strsim/labels.cpu().numpy().shape[0]\n",
    "        full_mape += mape\n",
    "        full_loss += masked_loss\n",
    "        batches += 1\n",
    "print(\"Test SSIM: {}\".format(fullstrsim/batches))\n",
    "print(\"Test loss: {}\".format(full_loss/batches))\n",
    "print(\"Test MAPE: {}\".format(full_mape/batches))"
   ]
  }
 ],
 "metadata": {
  "kernelspec": {
   "display_name": "projectv2",
   "language": "python",
   "name": "python3"
  },
  "language_info": {
   "codemirror_mode": {
    "name": "ipython",
    "version": 3
   },
   "file_extension": ".py",
   "mimetype": "text/x-python",
   "name": "python",
   "nbconvert_exporter": "python",
   "pygments_lexer": "ipython3",
   "version": "3.9.13"
  },
  "orig_nbformat": 4,
  "vscode": {
   "interpreter": {
    "hash": "270a635b83e65d335eba5d097089b0ff08369f0634f543893019998ee28e2990"
   }
  }
 },
 "nbformat": 4,
 "nbformat_minor": 2
}
